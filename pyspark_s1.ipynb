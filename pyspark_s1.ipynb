{
 "cells": [
  {
   "cell_type": "code",
   "execution_count": 2,
   "id": "6d93ef30-3317-4d9c-b753-8ba3d53b1a8d",
   "metadata": {},
   "outputs": [],
   "source": [
    "path=\"C:/Users/indra/ps_env/Scripts/VB.NET-2016-03-04\""
   ]
  },
  {
   "cell_type": "code",
   "execution_count": 5,
   "id": "2891f645-dc94-489c-a330-7131998e0b0e",
   "metadata": {},
   "outputs": [],
   "source": [
    "import pyspark\n",
    "from pyspark.sql import SparkSession\n",
    "from pyspark import SparkContext"
   ]
  },
  {
   "cell_type": "code",
   "execution_count": null,
   "id": "dbc45f0e-6d94-41d1-9d13-60625f5ef3d3",
   "metadata": {},
   "outputs": [],
   "source": []
  }
 ],
 "metadata": {
  "kernelspec": {
   "display_name": "Python 3 (ipykernel)",
   "language": "python",
   "name": "python3"
  },
  "language_info": {
   "codemirror_mode": {
    "name": "ipython",
    "version": 3
   },
   "file_extension": ".py",
   "mimetype": "text/x-python",
   "name": "python",
   "nbconvert_exporter": "python",
   "pygments_lexer": "ipython3",
   "version": "3.11.3"
  }
 },
 "nbformat": 4,
 "nbformat_minor": 5
}
